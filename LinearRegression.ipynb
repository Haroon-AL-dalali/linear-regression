{
 "cells": [
  {
   "cell_type": "code",
   "execution_count": null,
   "metadata": {},
   "outputs": [],
   "source": [
    "import pandas as pd\n",
    "import matplotlib.pyplot as plt\n",
    "from sklearn.preprocessing import LabelEncoder\n",
    "\n",
    "df = pd.read_csv('./movie.csv')\n",
    "\n",
    "df"
   ]
  },
  {
   "cell_type": "code",
   "execution_count": null,
   "metadata": {},
   "outputs": [],
   "source": [
    "le = LabelEncoder()\n",
    "df['Genre'] = le.fit_transform(df['Genre'])\n",
    "\n",
    "\n",
    "y = pd.DataFrame(df, columns = [\"Genre\"])\n",
    "x = pd.DataFrame(df, columns = ['AudienceScore'])\n",
    "\n",
    "print(y)\n",
    "\n",
    "df.describe()"
   ]
  },
  {
   "cell_type": "code",
   "execution_count": null,
   "metadata": {},
   "outputs": [],
   "source": [
    "plt.scatter(x, y,alpha=0.4)\n",
    "\n",
    "plt.xlabel(\"Genre\")\n",
    "plt.ylabel(\"AudienceScore\")\n",
    "\n",
    "# plt.xlim(0, 9.000000)\n",
    "# plt.ylim(0, 89.000000)\n",
    "\n",
    "plt.show()"
   ]
  },
  {
   "cell_type": "code",
   "execution_count": null,
   "metadata": {},
   "outputs": [],
   "source": [
    "import sklearn\n",
    "from sklearn.linear_model import LinearRegression\n",
    "reg = LinearRegression()\n",
    "reg.fit(x, y)\n",
    "reg.coef_\n",
    "reg.intercept_\n",
    "\n",
    "plt.scatter(x, y, alpha = 0.3)\n",
    "\n",
    "plt.xlabel(\"Genre\")\n",
    "plt.ylabel(\"AudienceScore\")\n",
    "\n",
    "\n",
    "\n",
    "plt.plot(x, reg.predict(x), color='black')\n",
    "\n",
    "# plt.xlim(0, 9.000000)\n",
    "# plt.ylim(0, 89.000000)\n"
   ]
  },
  {
   "cell_type": "code",
   "execution_count": null,
   "metadata": {},
   "outputs": [],
   "source": [
    "import pandas as pd\n",
    "import matplotlib.pyplot as plt\n",
    "import seaborn as sns\n",
    "from sklearn.preprocessing import LabelEncoder\n",
    "\n",
    "\n",
    "# 'Genre' and 'AudienceScore' are columns in movie csv\n",
    "df = pd.read_csv('./movie.csv')\n",
    "\n",
    "# Convert 'Genre' column to numeric using LabelEncoder\n",
    "le = LabelEncoder()\n",
    "df['Genre'] = le.fit_transform(df['Genre'])\n",
    "\n",
    "# Scatter plot with linear regression line\n",
    "sns.regplot(x='Genre', y='AudienceScore', data=df, scatter_kws={'color': 'green'}, line_kws={'color': 'red'})\n",
    "\n",
    "# Set plot title\n",
    "plt.title(\"The Audience Score with the type of movie\")\n",
    "\n",
    "# Show the plot\n",
    "plt.show()\n"
   ]
  },
  {
   "cell_type": "code",
   "execution_count": null,
   "metadata": {},
   "outputs": [],
   "source": []
  }
 ],
 "metadata": {
  "kernelspec": {
   "display_name": "base",
   "language": "python",
   "name": "python3"
  },
  "language_info": {
   "codemirror_mode": {
    "name": "ipython",
    "version": 3
   },
   "file_extension": ".py",
   "mimetype": "text/x-python",
   "name": "python",
   "nbconvert_exporter": "python",
   "pygments_lexer": "ipython3",
   "version": "3.8.5"
  }
 },
 "nbformat": 4,
 "nbformat_minor": 2
}
